{
  "nbformat": 4,
  "nbformat_minor": 0,
  "metadata": {
    "colab": {
      "provenance": [],
      "include_colab_link": true
    },
    "kernelspec": {
      "name": "python3",
      "display_name": "Python 3"
    },
    "language_info": {
      "name": "python"
    }
  },
  "cells": [
    {
      "cell_type": "markdown",
      "metadata": {
        "id": "view-in-github",
        "colab_type": "text"
      },
      "source": [
        "<a href=\"https://colab.research.google.com/github/URK21CO3008GDONMIKEBROWN/DON-MIKE-BROWN/blob/main/Exp_3_IDS.ipynb\" target=\"_parent\"><img src=\"https://colab.research.google.com/assets/colab-badge.svg\" alt=\"Open In Colab\"/></a>"
      ]
    },
    {
      "cell_type": "markdown",
      "source": [
        "Mount the file"
      ],
      "metadata": {
        "id": "8_ENUYCgfYoI"
      }
    },
    {
      "cell_type": "code",
      "execution_count": null,
      "metadata": {
        "colab": {
          "base_uri": "https://localhost:8080/"
        },
        "id": "DLAbqGyQdQQ7",
        "outputId": "ba2ae74e-d772-420b-b421-a2e735e31c8c"
      },
      "outputs": [
        {
          "output_type": "stream",
          "name": "stdout",
          "text": [
            "Mounted at /content/drive/\n"
          ]
        }
      ],
      "source": [
        "import pandas as pd\n",
        "from google.colab import drive\n",
        "drive.mount('/content/drive/')\n",
        "path = \"drive/My Drive/Colab Notebooks/Titanic_visu.csv\"\n",
        "df = pd.read_csv(path)\n",
        "import matplotlib.pyplot as plt\n",
        "import numpy as np"
      ]
    },
    {
      "cell_type": "code",
      "source": [
        "df['Embarked'].value_counts()"
      ],
      "metadata": {
        "colab": {
          "base_uri": "https://localhost:8080/"
        },
        "id": "vLS3b22es1Mb",
        "outputId": "28516391-11eb-4643-aa53-f47e6b8cdfc1"
      },
      "execution_count": null,
      "outputs": [
        {
          "output_type": "execute_result",
          "data": {
            "text/plain": [
              "S    17\n",
              "Q     5\n",
              "C     3\n",
              "Name: Embarked, dtype: int64"
            ]
          },
          "metadata": {},
          "execution_count": 8
        }
      ]
    },
    {
      "cell_type": "markdown",
      "source": [
        "Draw a bar chart with Embarked and its count (use different colors for each team)"
      ],
      "metadata": {
        "id": "nbhnu7w0sMZj"
      }
    },
    {
      "cell_type": "code",
      "source": [
        "data = df['Embarked'].value_counts()\n",
        "data\n",
        "plt.bar(data.index, data.values, color=['green','yellow','red'])"
      ],
      "metadata": {
        "colab": {
          "base_uri": "https://localhost:8080/",
          "height": 282
        },
        "id": "qvl2W4F0gSbd",
        "outputId": "5dcdfbc1-ff34-4bef-b192-bdf518b3861e"
      },
      "execution_count": null,
      "outputs": [
        {
          "output_type": "execute_result",
          "data": {
            "text/plain": [
              "<BarContainer object of 3 artists>"
            ]
          },
          "metadata": {},
          "execution_count": 6
        },
        {
          "output_type": "display_data",
          "data": {
            "text/plain": [
              "<Figure size 432x288 with 1 Axes>"
            ],
            "image/png": "[encoded data removed]"
          },
          "metadata": {
            "needs_background": "light"
          }
        }
      ]
    },
    {
      "cell_type": "markdown",
      "source": [
        "Draw a comparative bar chart for Fare and New_Fare against each person (first 15\n",
        "persons)"
      ],
      "metadata": {
        "id": "2fE33mgm7EfI"
      }
    },
    {
      "cell_type": "code",
      "source": [
        "N = 15\n",
        "ind = np.arange(N)\n",
        "width = 0.25\n",
        "xval = df['Fare'].head(15)\n",
        "bar1 = plt.bar(ind, xval, width, color='violet')\n",
        "\n",
        "yval = df['New_Fare'].head(15)\n",
        "bar2 = plt.bar(ind+width, yval, width, color='orange')\n",
        "\n",
        "plt.xlabel('Name')\n",
        "plt.ylabel('Price')\n",
        "plt.xticks(ind+width, df['Name'].head(15))\n",
        "plt.legend((bar1, bar2), ('Fare', 'New_Fare'))"
      ],
      "metadata": {
        "id": "qR-jPmFyhxGq",
        "colab": {
          "base_uri": "https://localhost:8080/",
          "height": 296
        },
        "outputId": "1d5d3d8a-edf7-40a5-df13-7cb01d3c9550"
      },
      "execution_count": null,
      "outputs": [
        {
          "output_type": "execute_result",
          "data": {
            "text/plain": [
              "<matplotlib.legend.Legend at 0x7fb208dbd340>"
            ]
          },
          "metadata": {},
          "execution_count": 3
        },
        {
          "output_type": "display_data",
          "data": {
            "text/plain": [
              "<Figure size 432x288 with 1 Axes>"
            ],
            "image/png": "[encoded data removed]"
          },
          "metadata": {
            "needs_background": "light"
          }
        }
      ]
    },
    {
      "cell_type": "markdown",
      "source": [
        "Draw a horizontal bar chart for Embarked and Fare"
      ],
      "metadata": {
        "id": "eOeKKH9l7U3D"
      }
    },
    {
      "cell_type": "code",
      "source": [
        "plt.barh(df['Embarked'], df['Fare'])"
      ],
      "metadata": {
        "colab": {
          "base_uri": "https://localhost:8080/",
          "height": 282
        },
        "id": "5izuLGMqhNbo",
        "outputId": "1f3092bd-b560-47f0-b0a1-eede5c40b3ec"
      },
      "execution_count": null,
      "outputs": [
        {
          "output_type": "execute_result",
          "data": {
            "text/plain": [
              "<BarContainer object of 25 artists>"
            ]
          },
          "metadata": {},
          "execution_count": 7
        },
        {
          "output_type": "display_data",
          "data": {
            "text/plain": [
              "<Figure size 432x288 with 1 Axes>"
            ],
            "image/png": "[encoded data removed]"
          },
          "metadata": {
            "needs_background": "light"
          }
        }
      ]
    },
    {
      "cell_type": "code",
      "source": [
        "data= df.sort_values(by='Age', ascending=True)\n",
        "plt.hist(data['Age'], edgecolor='white')"
      ],
      "metadata": {
        "id": "Ojmke3ATtS1J"
      },
      "execution_count": null,
      "outputs": []
    },
    {
      "cell_type": "code",
      "source": [
        "plt.hist(df['Age'],edgecolor='white')"
      ],
      "metadata": {
        "id": "1LsMEQeFucWP"
      },
      "execution_count": null,
      "outputs": []
    },
    {
      "cell_type": "markdown",
      "source": [
        "Draw a stacked bar chart for Fare and New_Fare against the person (first 10 persons)"
      ],
      "metadata": {
        "id": "DVvlf5ME7b1p"
      }
    },
    {
      "cell_type": "code",
      "source": [
        "plt.bar(df['Name'].head(10), df['Fare'].head(10))\n",
        "plt.bar(df['Name'].head(10), df['New_Fare'].head(10), bottom = df['Fare'].head(10))"
      ],
      "metadata": {
        "id": "CT01eMrPkCaq",
        "colab": {
          "base_uri": "https://localhost:8080/",
          "height": 285
        },
        "outputId": "bcd79cf5-b1b4-4983-92f8-c2f8f3da5f7a"
      },
      "execution_count": null,
      "outputs": [
        {
          "output_type": "execute_result",
          "data": {
            "text/plain": [
              "<BarContainer object of 10 artists>"
            ]
          },
          "metadata": {},
          "execution_count": 4
        },
        {
          "output_type": "display_data",
          "data": {
            "text/plain": [
              "<Figure size 432x288 with 1 Axes>"
            ],
            "image/png": "[encoded data removed]"
          },
          "metadata": {
            "needs_background": "light"
          }
        }
      ]
    },
    {
      "cell_type": "markdown",
      "source": [
        "Draw a pie chart with Passenger class and its count"
      ],
      "metadata": {
        "id": "Opr57kzT7jX5"
      }
    },
    {
      "cell_type": "code",
      "source": [
        "data = df['Pclass'].value_counts()\n",
        "plt.pie(data.values, labels = data.index, autopct = '%1.1f%%');"
      ],
      "metadata": {
        "id": "qTNDnsQAk3A-",
        "colab": {
          "base_uri": "https://localhost:8080/",
          "height": 248
        },
        "outputId": "36bb0a75-8cd0-4d5c-b8fd-e6b105c1b199"
      },
      "execution_count": null,
      "outputs": [
        {
          "output_type": "display_data",
          "data": {
            "text/plain": [
              "<Figure size 432x288 with 1 Axes>"
            ],
            "image/png": "[encoded data removed]"
          },
          "metadata": {}
        }
      ]
    },
    {
      "cell_type": "markdown",
      "source": [
        "Draw the dot plot between person and age (first 15 persons)"
      ],
      "metadata": {
        "id": "NRKBdJ3M7ovv"
      }
    },
    {
      "cell_type": "code",
      "source": [
        "plt.plot(df['Name'].head(15), df['Age'].head(15), linewidth =0, marker='o', color = 'purple')\n",
        "plt.title('Persons Age')\n",
        "plt.xlabel(\"Person name\")\n",
        "plt.ylabel('Person age')"
      ],
      "metadata": {
        "id": "iYkr7Ro_lZ2I",
        "colab": {
          "base_uri": "https://localhost:8080/",
          "height": 312
        },
        "outputId": "0c63227f-c704-4243-fced-f126811bb245"
      },
      "execution_count": null,
      "outputs": [
        {
          "output_type": "execute_result",
          "data": {
            "text/plain": [
              "Text(0, 0.5, 'Person age')"
            ]
          },
          "metadata": {},
          "execution_count": 8
        },
        {
          "output_type": "display_data",
          "data": {
            "text/plain": [
              "<Figure size 432x288 with 1 Axes>"
            ],
            "image/png": "[encoded data removed]"
          },
          "metadata": {
            "needs_background": "light"
          }
        }
      ]
    },
    {
      "cell_type": "markdown",
      "source": [
        "Draw the line plot between Age and Concession. Observe the trend line."
      ],
      "metadata": {
        "id": "njxw0EzO7uCB"
      }
    },
    {
      "cell_type": "code",
      "source": [
        "b = df.sort_values(by='Age', ascending=True)\n",
        "plt.plot(b['Age'],b['Concession'], marker = '.', color = 'green')\n",
        "plt.title('Age and concession')\n",
        "plt.xlabel('Age')\n",
        "plt.ylabel('Concession')"
      ],
      "metadata": {
        "id": "3aM5nDNAmUeg",
        "colab": {
          "base_uri": "https://localhost:8080/",
          "height": 312
        },
        "outputId": "a3367170-640d-40f9-9a47-231595b9d5f1"
      },
      "execution_count": null,
      "outputs": [
        {
          "output_type": "execute_result",
          "data": {
            "text/plain": [
              "Text(0, 0.5, 'Concession')"
            ]
          },
          "metadata": {},
          "execution_count": 9
        },
        {
          "output_type": "display_data",
          "data": {
            "text/plain": [
              "<Figure size 432x288 with 1 Axes>"
            ],
            "image/png": "[encoded data removed]"
          },
          "metadata": {
            "needs_background": "light"
          }
        }
      ]
    },
    {
      "cell_type": "markdown",
      "source": [
        "Draw the scatter plot between Fare and New_Fare. Observe the correlation"
      ],
      "metadata": {
        "id": "oayL80Cm7yNR"
      }
    },
    {
      "cell_type": "code",
      "source": [
        "x = df['Fare']\n",
        "y = df['New_Fare']\n",
        "plt.scatter(x,y, color='y')"
      ],
      "metadata": {
        "id": "sOq2LaBtnGvu",
        "colab": {
          "base_uri": "https://localhost:8080/",
          "height": 282
        },
        "outputId": "4a535cbb-c8da-4a2a-a7f2-01a8c7ee8fb7"
      },
      "execution_count": null,
      "outputs": [
        {
          "output_type": "execute_result",
          "data": {
            "text/plain": [
              "<matplotlib.collections.PathCollection at 0x7fb2085443d0>"
            ]
          },
          "metadata": {},
          "execution_count": 11
        },
        {
          "output_type": "display_data",
          "data": {
            "text/plain": [
              "<Figure size 432x288 with 1 Axes>"
            ],
            "image/png": "[encoded data removed]"
          },
          "metadata": {
            "needs_background": "light"
          }
        }
      ]
    },
    {
      "cell_type": "markdown",
      "source": [
        "Draw the scatter plot between Age and Fare. Observe the correlation"
      ],
      "metadata": {
        "id": "8kmYgrcD71te"
      }
    },
    {
      "cell_type": "code",
      "source": [
        "x = df['Age']\n",
        "y = df['Fare']\n",
        "plt.scatter(x,y, color='y')"
      ],
      "metadata": {
        "id": "A45wER-GqsD7",
        "colab": {
          "base_uri": "https://localhost:8080/",
          "height": 282
        },
        "outputId": "dcc65cd7-671a-4a23-cbec-7841a264f740"
      },
      "execution_count": null,
      "outputs": [
        {
          "output_type": "execute_result",
          "data": {
            "text/plain": [
              "<matplotlib.collections.PathCollection at 0x7fb2084ac280>"
            ]
          },
          "metadata": {},
          "execution_count": 12
        },
        {
          "output_type": "display_data",
          "data": {
            "text/plain": [
              "<Figure size 432x288 with 1 Axes>"
            ],
            "image/png": "[encoded data removed]"
          },
          "metadata": {
            "needs_background": "light"
          }
        }
      ]
    },
    {
      "cell_type": "markdown",
      "source": [
        "Draw the box plot to show the statistical summary of Age column and verify with\n",
        "describe()"
      ],
      "metadata": {
        "id": "409r4NSl8Ku8"
      }
    },
    {
      "cell_type": "code",
      "source": [
        "plt.boxplot(df['Age']);"
      ],
      "metadata": {
        "id": "T3hRMldBqxzu",
        "colab": {
          "base_uri": "https://localhost:8080/",
          "height": 265
        },
        "outputId": "ea409046-fc54-4a71-a764-bd2774ccc1c0"
      },
      "execution_count": null,
      "outputs": [
        {
          "output_type": "display_data",
          "data": {
            "text/plain": [
              "<Figure size 432x288 with 1 Axes>"
            ],
            "image/png": "[encoded data removed]"
          },
          "metadata": {
            "needs_background": "light"
          }
        }
      ]
    },
    {
      "cell_type": "code",
      "source": [
        "df.describe()"
      ],
      "metadata": {
        "id": "oxERs_USrNTM"
      },
      "execution_count": null,
      "outputs": []
    },
    {
      "cell_type": "markdown",
      "source": [
        "Draw the histogram plot for Concession column"
      ],
      "metadata": {
        "id": "9-I32-s_8MrK"
      }
    },
    {
      "cell_type": "code",
      "source": [
        "plt.hist(df['Concession'], edgecolor='white');"
      ],
      "metadata": {
        "id": "IZCharA6rW7F",
        "colab": {
          "base_uri": "https://localhost:8080/",
          "height": 265
        },
        "outputId": "d9c8959d-62c3-4b4e-ea68-dac886862737"
      },
      "execution_count": null,
      "outputs": [
        {
          "output_type": "display_data",
          "data": {
            "text/plain": [
              "<Figure size 432x288 with 1 Axes>"
            ],
            "image/png": "[encoded data removed]"
          },
          "metadata": {
            "needs_background": "light"
          }
        }
      ]
    },
    {
      "cell_type": "markdown",
      "source": [
        "Draw the histogram plot for Concession column with bin value and PDF"
      ],
      "metadata": {
        "id": "v7GzgDr68PVW"
      }
    },
    {
      "cell_type": "code",
      "source": [
        "plt.hist(df['Concession'], edgecolor='white', bins =5, density = True);"
      ],
      "metadata": {
        "id": "lGLyialLry4W",
        "colab": {
          "base_uri": "https://localhost:8080/",
          "height": 265
        },
        "outputId": "89661f71-9776-4dea-d369-1e508f21f30a"
      },
      "execution_count": null,
      "outputs": [
        {
          "output_type": "display_data",
          "data": {
            "text/plain": [
              "<Figure size 432x288 with 1 Axes>"
            ],
            "image/png": "[encoded data removed]"
          },
          "metadata": {
            "needs_background": "light"
          }
        }
      ]
    }
  ]
}